{
 "cells": [
  {
   "cell_type": "code",
   "execution_count": 1,
   "id": "d094bf4c",
   "metadata": {},
   "outputs": [],
   "source": [
    "import numpy as np\n",
    "import pandas as pd\n",
    "import matplotlib.pyplot as plt\n",
    "import seaborn as sns\n",
    "\n",
    "from acquire import wrangle_zillow\n",
    "from prepare import prep_zillow\n",
    "from prepare import remove_outliers\n",
    "from prepare import tts_con\n",
    "\n",
    "import sklearn.preprocessing\n",
    "from sklearn.metrics import mean_squared_error\n",
    "from sklearn.linear_model import LinearRegression, LassoLars, TweedieRegressor\n",
    "from sklearn.preprocessing import PolynomialFeatures\n",
    "from sklearn.feature_selection import SelectKBest, f_regression"
   ]
  },
  {
   "cell_type": "markdown",
   "id": "8b789b6f",
   "metadata": {},
   "source": [
    "## Acquire the data and prep it for modeling"
   ]
  },
  {
   "cell_type": "code",
   "execution_count": 2,
   "id": "2a6db7b1",
   "metadata": {},
   "outputs": [],
   "source": [
    "#acquire the raw data\n",
    "zillow=wrangle_zillow()"
   ]
  },
  {
   "cell_type": "code",
   "execution_count": 3,
   "id": "8e0c8987",
   "metadata": {},
   "outputs": [],
   "source": [
    "#prepare the data\n",
    "zillow=prep_zillow(zillow)"
   ]
  },
  {
   "cell_type": "code",
   "execution_count": 4,
   "id": "1bcb63fc",
   "metadata": {},
   "outputs": [],
   "source": [
    "#remove outliers\n",
    "zillow, fences=remove_outliers(zillow)"
   ]
  },
  {
   "cell_type": "code",
   "execution_count": 5,
   "id": "0e5d30de",
   "metadata": {},
   "outputs": [],
   "source": [
    "#getting dummies for modeling\n",
    "zillow = pd.get_dummies(zillow, columns=['bed_count', 'bath_count'])"
   ]
  },
  {
   "cell_type": "code",
   "execution_count": 6,
   "id": "c0aa8122",
   "metadata": {},
   "outputs": [
    {
     "data": {
      "text/html": [
       "<div>\n",
       "<style scoped>\n",
       "    .dataframe tbody tr th:only-of-type {\n",
       "        vertical-align: middle;\n",
       "    }\n",
       "\n",
       "    .dataframe tbody tr th {\n",
       "        vertical-align: top;\n",
       "    }\n",
       "\n",
       "    .dataframe thead th {\n",
       "        text-align: right;\n",
       "    }\n",
       "</style>\n",
       "<table border=\"1\" class=\"dataframe\">\n",
       "  <thead>\n",
       "    <tr style=\"text-align: right;\">\n",
       "      <th></th>\n",
       "      <th>property_value</th>\n",
       "      <th>finished_sq_ft</th>\n",
       "      <th>bed_count_2.0</th>\n",
       "      <th>bed_count_3.0</th>\n",
       "      <th>bed_count_4.0</th>\n",
       "      <th>bed_count_5.0</th>\n",
       "      <th>bath_count_1.0</th>\n",
       "      <th>bath_count_1.5</th>\n",
       "      <th>bath_count_2.0</th>\n",
       "      <th>bath_count_2.5</th>\n",
       "      <th>bath_count_3.0</th>\n",
       "      <th>bath_count_3.5</th>\n",
       "      <th>bath_count_4.0</th>\n",
       "      <th>bath_count_4.5</th>\n",
       "    </tr>\n",
       "  </thead>\n",
       "  <tbody>\n",
       "    <tr>\n",
       "      <th>1</th>\n",
       "      <td>106406.0</td>\n",
       "      <td>2519.0</td>\n",
       "      <td>0</td>\n",
       "      <td>0</td>\n",
       "      <td>1</td>\n",
       "      <td>0</td>\n",
       "      <td>0</td>\n",
       "      <td>0</td>\n",
       "      <td>0</td>\n",
       "      <td>0</td>\n",
       "      <td>1</td>\n",
       "      <td>0</td>\n",
       "      <td>0</td>\n",
       "      <td>0</td>\n",
       "    </tr>\n",
       "    <tr>\n",
       "      <th>2</th>\n",
       "      <td>369853.0</td>\n",
       "      <td>1285.0</td>\n",
       "      <td>0</td>\n",
       "      <td>1</td>\n",
       "      <td>0</td>\n",
       "      <td>0</td>\n",
       "      <td>0</td>\n",
       "      <td>0</td>\n",
       "      <td>1</td>\n",
       "      <td>0</td>\n",
       "      <td>0</td>\n",
       "      <td>0</td>\n",
       "      <td>0</td>\n",
       "      <td>0</td>\n",
       "    </tr>\n",
       "    <tr>\n",
       "      <th>3</th>\n",
       "      <td>65848.0</td>\n",
       "      <td>1254.0</td>\n",
       "      <td>0</td>\n",
       "      <td>1</td>\n",
       "      <td>0</td>\n",
       "      <td>0</td>\n",
       "      <td>1</td>\n",
       "      <td>0</td>\n",
       "      <td>0</td>\n",
       "      <td>0</td>\n",
       "      <td>0</td>\n",
       "      <td>0</td>\n",
       "      <td>0</td>\n",
       "      <td>0</td>\n",
       "    </tr>\n",
       "    <tr>\n",
       "      <th>4</th>\n",
       "      <td>89362.0</td>\n",
       "      <td>1988.0</td>\n",
       "      <td>0</td>\n",
       "      <td>1</td>\n",
       "      <td>0</td>\n",
       "      <td>0</td>\n",
       "      <td>0</td>\n",
       "      <td>0</td>\n",
       "      <td>1</td>\n",
       "      <td>0</td>\n",
       "      <td>0</td>\n",
       "      <td>0</td>\n",
       "      <td>0</td>\n",
       "      <td>0</td>\n",
       "    </tr>\n",
       "    <tr>\n",
       "      <th>5</th>\n",
       "      <td>885381.0</td>\n",
       "      <td>2851.0</td>\n",
       "      <td>0</td>\n",
       "      <td>1</td>\n",
       "      <td>0</td>\n",
       "      <td>0</td>\n",
       "      <td>0</td>\n",
       "      <td>0</td>\n",
       "      <td>0</td>\n",
       "      <td>0</td>\n",
       "      <td>1</td>\n",
       "      <td>0</td>\n",
       "      <td>0</td>\n",
       "      <td>0</td>\n",
       "    </tr>\n",
       "  </tbody>\n",
       "</table>\n",
       "</div>"
      ],
      "text/plain": [
       "   property_value  finished_sq_ft  bed_count_2.0  bed_count_3.0  \\\n",
       "1        106406.0          2519.0              0              0   \n",
       "2        369853.0          1285.0              0              1   \n",
       "3         65848.0          1254.0              0              1   \n",
       "4         89362.0          1988.0              0              1   \n",
       "5        885381.0          2851.0              0              1   \n",
       "\n",
       "   bed_count_4.0  bed_count_5.0  bath_count_1.0  bath_count_1.5  \\\n",
       "1              1              0               0               0   \n",
       "2              0              0               0               0   \n",
       "3              0              0               1               0   \n",
       "4              0              0               0               0   \n",
       "5              0              0               0               0   \n",
       "\n",
       "   bath_count_2.0  bath_count_2.5  bath_count_3.0  bath_count_3.5  \\\n",
       "1               0               0               1               0   \n",
       "2               1               0               0               0   \n",
       "3               0               0               0               0   \n",
       "4               1               0               0               0   \n",
       "5               0               0               1               0   \n",
       "\n",
       "   bath_count_4.0  bath_count_4.5  \n",
       "1               0               0  \n",
       "2               0               0  \n",
       "3               0               0  \n",
       "4               0               0  \n",
       "5               0               0  "
      ]
     },
     "execution_count": 6,
     "metadata": {},
     "output_type": "execute_result"
    }
   ],
   "source": [
    "zillow.head()"
   ]
  },
  {
   "cell_type": "code",
   "execution_count": 7,
   "id": "bb079267",
   "metadata": {},
   "outputs": [],
   "source": [
    "#splitting the data\n",
    "m_train, m_val, m_test=tts_con(zillow)"
   ]
  },
  {
   "cell_type": "code",
   "execution_count": 8,
   "id": "f61218cb",
   "metadata": {},
   "outputs": [
    {
     "data": {
      "text/plain": [
       "((26188, 14), (11224, 14), (9353, 14))"
      ]
     },
     "execution_count": 8,
     "metadata": {},
     "output_type": "execute_result"
    }
   ],
   "source": [
    "#Making sure they all have the same number of features\n",
    "m_train.shape, m_val.shape, m_test.shape"
   ]
  },
  {
   "cell_type": "code",
   "execution_count": 9,
   "id": "096da4bb",
   "metadata": {},
   "outputs": [],
   "source": [
    "#splitting data into x and y sets\n",
    "X_train=m_train.drop(columns=['property_value'])\n",
    "y_train=m_train['property_value']\n",
    "\n",
    "X_val=m_val.drop(columns=['property_value'])\n",
    "y_val=m_val['property_value']\n",
    "\n",
    "X_test=m_test.drop(columns=['property_value'])\n",
    "y_test=m_test['property_value']"
   ]
  },
  {
   "cell_type": "code",
   "execution_count": 10,
   "id": "9cc1e590",
   "metadata": {},
   "outputs": [],
   "source": [
    "#create scalar\n",
    "ss=sklearn.preprocessing.StandardScaler()"
   ]
  },
  {
   "cell_type": "code",
   "execution_count": 11,
   "id": "1f53dbe0",
   "metadata": {},
   "outputs": [],
   "source": [
    "#set numeric columns and apply scalar\n",
    "num_cols=['finished_sq_ft']\n",
    "ss.fit(X_train[num_cols])\n",
    "\n",
    "X_train[num_cols]= ss.transform(X_train[num_cols])\n",
    "X_val[num_cols]= ss.transform(X_val[num_cols])\n",
    "X_test[num_cols]= ss.transform(X_test[num_cols])"
   ]
  },
  {
   "cell_type": "code",
   "execution_count": 12,
   "id": "5f1ae39b",
   "metadata": {},
   "outputs": [
    {
     "data": {
      "text/html": [
       "<div>\n",
       "<style scoped>\n",
       "    .dataframe tbody tr th:only-of-type {\n",
       "        vertical-align: middle;\n",
       "    }\n",
       "\n",
       "    .dataframe tbody tr th {\n",
       "        vertical-align: top;\n",
       "    }\n",
       "\n",
       "    .dataframe thead th {\n",
       "        text-align: right;\n",
       "    }\n",
       "</style>\n",
       "<table border=\"1\" class=\"dataframe\">\n",
       "  <thead>\n",
       "    <tr style=\"text-align: right;\">\n",
       "      <th></th>\n",
       "      <th>finished_sq_ft</th>\n",
       "      <th>bed_count_2.0</th>\n",
       "      <th>bed_count_3.0</th>\n",
       "      <th>bed_count_4.0</th>\n",
       "      <th>bed_count_5.0</th>\n",
       "      <th>bath_count_1.0</th>\n",
       "      <th>bath_count_1.5</th>\n",
       "      <th>bath_count_2.0</th>\n",
       "      <th>bath_count_2.5</th>\n",
       "      <th>bath_count_3.0</th>\n",
       "      <th>bath_count_3.5</th>\n",
       "      <th>bath_count_4.0</th>\n",
       "      <th>bath_count_4.5</th>\n",
       "    </tr>\n",
       "  </thead>\n",
       "  <tbody>\n",
       "    <tr>\n",
       "      <th>32057</th>\n",
       "      <td>-0.797661</td>\n",
       "      <td>0</td>\n",
       "      <td>1</td>\n",
       "      <td>0</td>\n",
       "      <td>0</td>\n",
       "      <td>0</td>\n",
       "      <td>0</td>\n",
       "      <td>1</td>\n",
       "      <td>0</td>\n",
       "      <td>0</td>\n",
       "      <td>0</td>\n",
       "      <td>0</td>\n",
       "      <td>0</td>\n",
       "    </tr>\n",
       "    <tr>\n",
       "      <th>43708</th>\n",
       "      <td>-0.900668</td>\n",
       "      <td>1</td>\n",
       "      <td>0</td>\n",
       "      <td>0</td>\n",
       "      <td>0</td>\n",
       "      <td>1</td>\n",
       "      <td>0</td>\n",
       "      <td>0</td>\n",
       "      <td>0</td>\n",
       "      <td>0</td>\n",
       "      <td>0</td>\n",
       "      <td>0</td>\n",
       "      <td>0</td>\n",
       "    </tr>\n",
       "    <tr>\n",
       "      <th>2083</th>\n",
       "      <td>-0.680818</td>\n",
       "      <td>0</td>\n",
       "      <td>1</td>\n",
       "      <td>0</td>\n",
       "      <td>0</td>\n",
       "      <td>0</td>\n",
       "      <td>1</td>\n",
       "      <td>0</td>\n",
       "      <td>0</td>\n",
       "      <td>0</td>\n",
       "      <td>0</td>\n",
       "      <td>0</td>\n",
       "      <td>0</td>\n",
       "    </tr>\n",
       "    <tr>\n",
       "      <th>27554</th>\n",
       "      <td>-0.151947</td>\n",
       "      <td>0</td>\n",
       "      <td>0</td>\n",
       "      <td>1</td>\n",
       "      <td>0</td>\n",
       "      <td>0</td>\n",
       "      <td>0</td>\n",
       "      <td>1</td>\n",
       "      <td>0</td>\n",
       "      <td>0</td>\n",
       "      <td>0</td>\n",
       "      <td>0</td>\n",
       "      <td>0</td>\n",
       "    </tr>\n",
       "    <tr>\n",
       "      <th>45855</th>\n",
       "      <td>-0.087376</td>\n",
       "      <td>0</td>\n",
       "      <td>1</td>\n",
       "      <td>0</td>\n",
       "      <td>0</td>\n",
       "      <td>0</td>\n",
       "      <td>0</td>\n",
       "      <td>1</td>\n",
       "      <td>0</td>\n",
       "      <td>0</td>\n",
       "      <td>0</td>\n",
       "      <td>0</td>\n",
       "      <td>0</td>\n",
       "    </tr>\n",
       "  </tbody>\n",
       "</table>\n",
       "</div>"
      ],
      "text/plain": [
       "       finished_sq_ft  bed_count_2.0  bed_count_3.0  bed_count_4.0  \\\n",
       "32057       -0.797661              0              1              0   \n",
       "43708       -0.900668              1              0              0   \n",
       "2083        -0.680818              0              1              0   \n",
       "27554       -0.151947              0              0              1   \n",
       "45855       -0.087376              0              1              0   \n",
       "\n",
       "       bed_count_5.0  bath_count_1.0  bath_count_1.5  bath_count_2.0  \\\n",
       "32057              0               0               0               1   \n",
       "43708              0               1               0               0   \n",
       "2083               0               0               1               0   \n",
       "27554              0               0               0               1   \n",
       "45855              0               0               0               1   \n",
       "\n",
       "       bath_count_2.5  bath_count_3.0  bath_count_3.5  bath_count_4.0  \\\n",
       "32057               0               0               0               0   \n",
       "43708               0               0               0               0   \n",
       "2083                0               0               0               0   \n",
       "27554               0               0               0               0   \n",
       "45855               0               0               0               0   \n",
       "\n",
       "       bath_count_4.5  \n",
       "32057               0  \n",
       "43708               0  \n",
       "2083                0  \n",
       "27554               0  \n",
       "45855               0  "
      ]
     },
     "execution_count": 12,
     "metadata": {},
     "output_type": "execute_result"
    }
   ],
   "source": [
    "X_train.head()"
   ]
  },
  {
   "cell_type": "markdown",
   "id": "5b9c5a7e",
   "metadata": {},
   "source": [
    "## Make models and test for error to find best performing model"
   ]
  },
  {
   "cell_type": "markdown",
   "id": "33d4f3e3",
   "metadata": {},
   "source": [
    "### Establish baseline"
   ]
  },
  {
   "cell_type": "code",
   "execution_count": 13,
   "id": "f0989618",
   "metadata": {},
   "outputs": [
    {
     "data": {
      "text/html": [
       "<div>\n",
       "<style scoped>\n",
       "    .dataframe tbody tr th:only-of-type {\n",
       "        vertical-align: middle;\n",
       "    }\n",
       "\n",
       "    .dataframe tbody tr th {\n",
       "        vertical-align: top;\n",
       "    }\n",
       "\n",
       "    .dataframe thead th {\n",
       "        text-align: right;\n",
       "    }\n",
       "</style>\n",
       "<table border=\"1\" class=\"dataframe\">\n",
       "  <thead>\n",
       "    <tr style=\"text-align: right;\">\n",
       "      <th></th>\n",
       "      <th>property_value</th>\n",
       "    </tr>\n",
       "  </thead>\n",
       "  <tbody>\n",
       "    <tr>\n",
       "      <th>32057</th>\n",
       "      <td>206678.0</td>\n",
       "    </tr>\n",
       "    <tr>\n",
       "      <th>43708</th>\n",
       "      <td>600000.0</td>\n",
       "    </tr>\n",
       "    <tr>\n",
       "      <th>2083</th>\n",
       "      <td>582000.0</td>\n",
       "    </tr>\n",
       "    <tr>\n",
       "      <th>27554</th>\n",
       "      <td>542618.0</td>\n",
       "    </tr>\n",
       "    <tr>\n",
       "      <th>45855</th>\n",
       "      <td>195294.0</td>\n",
       "    </tr>\n",
       "  </tbody>\n",
       "</table>\n",
       "</div>"
      ],
      "text/plain": [
       "       property_value\n",
       "32057        206678.0\n",
       "43708        600000.0\n",
       "2083         582000.0\n",
       "27554        542618.0\n",
       "45855        195294.0"
      ]
     },
     "execution_count": 13,
     "metadata": {},
     "output_type": "execute_result"
    }
   ],
   "source": [
    "#assigning y_train to a data frame\n",
    "y_train= pd.DataFrame(y_train)\n",
    "y_val=pd.DataFrame(y_val)\n",
    "y_train.head()"
   ]
  },
  {
   "cell_type": "code",
   "execution_count": 14,
   "id": "034ebe44",
   "metadata": {},
   "outputs": [
    {
     "data": {
      "text/html": [
       "<div>\n",
       "<style scoped>\n",
       "    .dataframe tbody tr th:only-of-type {\n",
       "        vertical-align: middle;\n",
       "    }\n",
       "\n",
       "    .dataframe tbody tr th {\n",
       "        vertical-align: top;\n",
       "    }\n",
       "\n",
       "    .dataframe thead th {\n",
       "        text-align: right;\n",
       "    }\n",
       "</style>\n",
       "<table border=\"1\" class=\"dataframe\">\n",
       "  <thead>\n",
       "    <tr style=\"text-align: right;\">\n",
       "      <th></th>\n",
       "      <th>property_value</th>\n",
       "      <th>base_med</th>\n",
       "      <th>base_mean</th>\n",
       "    </tr>\n",
       "  </thead>\n",
       "  <tbody>\n",
       "    <tr>\n",
       "      <th>32057</th>\n",
       "      <td>206678.0</td>\n",
       "      <td>344749.5</td>\n",
       "      <td>387526.101611</td>\n",
       "    </tr>\n",
       "    <tr>\n",
       "      <th>43708</th>\n",
       "      <td>600000.0</td>\n",
       "      <td>344749.5</td>\n",
       "      <td>387526.101611</td>\n",
       "    </tr>\n",
       "    <tr>\n",
       "      <th>2083</th>\n",
       "      <td>582000.0</td>\n",
       "      <td>344749.5</td>\n",
       "      <td>387526.101611</td>\n",
       "    </tr>\n",
       "    <tr>\n",
       "      <th>27554</th>\n",
       "      <td>542618.0</td>\n",
       "      <td>344749.5</td>\n",
       "      <td>387526.101611</td>\n",
       "    </tr>\n",
       "    <tr>\n",
       "      <th>45855</th>\n",
       "      <td>195294.0</td>\n",
       "      <td>344749.5</td>\n",
       "      <td>387526.101611</td>\n",
       "    </tr>\n",
       "  </tbody>\n",
       "</table>\n",
       "</div>"
      ],
      "text/plain": [
       "       property_value  base_med      base_mean\n",
       "32057        206678.0  344749.5  387526.101611\n",
       "43708        600000.0  344749.5  387526.101611\n",
       "2083         582000.0  344749.5  387526.101611\n",
       "27554        542618.0  344749.5  387526.101611\n",
       "45855        195294.0  344749.5  387526.101611"
      ]
     },
     "execution_count": 14,
     "metadata": {},
     "output_type": "execute_result"
    }
   ],
   "source": [
    "#Setting a baseline using median and mean\n",
    "y_train['base_med']=y_train['property_value'].median()\n",
    "y_train['base_mean']=y_train['property_value'].mean()\n",
    "\n",
    "y_val['base_med']=y_val['property_value'].median()\n",
    "y_val['base_mean']=y_val['property_value'].mean()\n",
    "\n",
    "y_train.head()"
   ]
  },
  {
   "cell_type": "code",
   "execution_count": 15,
   "id": "606c75df",
   "metadata": {},
   "outputs": [
    {
     "name": "stdout",
     "output_type": "stream",
     "text": [
      "Train RMSE for the median baseline is 265529.7383407816\n",
      "Train RMSE for the mean baseline is 262061.4513771557\n",
      "\n",
      "\n",
      "Validate RMSE for the median baseline is 268295.544925074\n",
      "Validate RMSE for the mean baseline is 264235.4144336938\n"
     ]
    }
   ],
   "source": [
    "#getting rmse for each baseline to determine which one to use\n",
    "med=mean_squared_error(y_train['property_value'], y_train['base_med'], squared=False)\n",
    "mea=mean_squared_error(y_train['property_value'], y_train['base_mean'], squared=False)\n",
    "\n",
    "med_v=mean_squared_error(y_val['property_value'], y_val['base_med'], squared=False)\n",
    "mea_v=mean_squared_error(y_val['property_value'], y_val['base_mean'], squared=False)\n",
    "\n",
    "print(f'Train RMSE for the median baseline is {med}')\n",
    "print(f'Train RMSE for the mean baseline is {mea}')\n",
    "print('\\n')\n",
    "print(f'Validate RMSE for the median baseline is {med_v}')\n",
    "print(f'Validate RMSE for the mean baseline is {mea_v}')"
   ]
  },
  {
   "cell_type": "markdown",
   "id": "05dc2308",
   "metadata": {},
   "source": [
    "<div class=\"alert alert-info\">\n",
    "    <header>\n",
    "    <h2>Takeaway</h2>\n",
    "    </header>\n",
    "    <dl>\n",
    "        <dt>The RMSE for mean was lower for the baseline in both train/in sample and validate/out-of-sample data sets, so we will use mean as the baseline.</dt>\n",
    "    </dl>\n",
    "</div>"
   ]
  },
  {
   "cell_type": "code",
   "execution_count": 16,
   "id": "ce8f9d30",
   "metadata": {},
   "outputs": [],
   "source": [
    "#dropping the median and keeping the mean as baseline\n",
    "y_train=y_train.drop(columns=['base_med'])\n",
    "y_val=y_val.drop(columns=['base_med'])"
   ]
  },
  {
   "cell_type": "markdown",
   "id": "2becaf32",
   "metadata": {},
   "source": [
    "### Linear Regression (OLM)"
   ]
  },
  {
   "cell_type": "code",
   "execution_count": 17,
   "id": "4c20d107",
   "metadata": {},
   "outputs": [],
   "source": [
    "#create model\n",
    "lm=LinearRegression()"
   ]
  },
  {
   "cell_type": "code",
   "execution_count": 18,
   "id": "239ecab8",
   "metadata": {},
   "outputs": [
    {
     "data": {
      "text/html": [
       "<style>#sk-container-id-1 {color: black;background-color: white;}#sk-container-id-1 pre{padding: 0;}#sk-container-id-1 div.sk-toggleable {background-color: white;}#sk-container-id-1 label.sk-toggleable__label {cursor: pointer;display: block;width: 100%;margin-bottom: 0;padding: 0.3em;box-sizing: border-box;text-align: center;}#sk-container-id-1 label.sk-toggleable__label-arrow:before {content: \"▸\";float: left;margin-right: 0.25em;color: #696969;}#sk-container-id-1 label.sk-toggleable__label-arrow:hover:before {color: black;}#sk-container-id-1 div.sk-estimator:hover label.sk-toggleable__label-arrow:before {color: black;}#sk-container-id-1 div.sk-toggleable__content {max-height: 0;max-width: 0;overflow: hidden;text-align: left;background-color: #f0f8ff;}#sk-container-id-1 div.sk-toggleable__content pre {margin: 0.2em;color: black;border-radius: 0.25em;background-color: #f0f8ff;}#sk-container-id-1 input.sk-toggleable__control:checked~div.sk-toggleable__content {max-height: 200px;max-width: 100%;overflow: auto;}#sk-container-id-1 input.sk-toggleable__control:checked~label.sk-toggleable__label-arrow:before {content: \"▾\";}#sk-container-id-1 div.sk-estimator input.sk-toggleable__control:checked~label.sk-toggleable__label {background-color: #d4ebff;}#sk-container-id-1 div.sk-label input.sk-toggleable__control:checked~label.sk-toggleable__label {background-color: #d4ebff;}#sk-container-id-1 input.sk-hidden--visually {border: 0;clip: rect(1px 1px 1px 1px);clip: rect(1px, 1px, 1px, 1px);height: 1px;margin: -1px;overflow: hidden;padding: 0;position: absolute;width: 1px;}#sk-container-id-1 div.sk-estimator {font-family: monospace;background-color: #f0f8ff;border: 1px dotted black;border-radius: 0.25em;box-sizing: border-box;margin-bottom: 0.5em;}#sk-container-id-1 div.sk-estimator:hover {background-color: #d4ebff;}#sk-container-id-1 div.sk-parallel-item::after {content: \"\";width: 100%;border-bottom: 1px solid gray;flex-grow: 1;}#sk-container-id-1 div.sk-label:hover label.sk-toggleable__label {background-color: #d4ebff;}#sk-container-id-1 div.sk-serial::before {content: \"\";position: absolute;border-left: 1px solid gray;box-sizing: border-box;top: 0;bottom: 0;left: 50%;z-index: 0;}#sk-container-id-1 div.sk-serial {display: flex;flex-direction: column;align-items: center;background-color: white;padding-right: 0.2em;padding-left: 0.2em;position: relative;}#sk-container-id-1 div.sk-item {position: relative;z-index: 1;}#sk-container-id-1 div.sk-parallel {display: flex;align-items: stretch;justify-content: center;background-color: white;position: relative;}#sk-container-id-1 div.sk-item::before, #sk-container-id-1 div.sk-parallel-item::before {content: \"\";position: absolute;border-left: 1px solid gray;box-sizing: border-box;top: 0;bottom: 0;left: 50%;z-index: -1;}#sk-container-id-1 div.sk-parallel-item {display: flex;flex-direction: column;z-index: 1;position: relative;background-color: white;}#sk-container-id-1 div.sk-parallel-item:first-child::after {align-self: flex-end;width: 50%;}#sk-container-id-1 div.sk-parallel-item:last-child::after {align-self: flex-start;width: 50%;}#sk-container-id-1 div.sk-parallel-item:only-child::after {width: 0;}#sk-container-id-1 div.sk-dashed-wrapped {border: 1px dashed gray;margin: 0 0.4em 0.5em 0.4em;box-sizing: border-box;padding-bottom: 0.4em;background-color: white;}#sk-container-id-1 div.sk-label label {font-family: monospace;font-weight: bold;display: inline-block;line-height: 1.2em;}#sk-container-id-1 div.sk-label-container {text-align: center;}#sk-container-id-1 div.sk-container {/* jupyter's `normalize.less` sets `[hidden] { display: none; }` but bootstrap.min.css set `[hidden] { display: none !important; }` so we also need the `!important` here to be able to override the default hidden behavior on the sphinx rendered scikit-learn.org. See: https://github.com/scikit-learn/scikit-learn/issues/21755 */display: inline-block !important;position: relative;}#sk-container-id-1 div.sk-text-repr-fallback {display: none;}</style><div id=\"sk-container-id-1\" class=\"sk-top-container\"><div class=\"sk-text-repr-fallback\"><pre>LinearRegression()</pre><b>In a Jupyter environment, please rerun this cell to show the HTML representation or trust the notebook. <br />On GitHub, the HTML representation is unable to render, please try loading this page with nbviewer.org.</b></div><div class=\"sk-container\" hidden><div class=\"sk-item\"><div class=\"sk-estimator sk-toggleable\"><input class=\"sk-toggleable__control sk-hidden--visually\" id=\"sk-estimator-id-1\" type=\"checkbox\" checked><label for=\"sk-estimator-id-1\" class=\"sk-toggleable__label sk-toggleable__label-arrow\">LinearRegression</label><div class=\"sk-toggleable__content\"><pre>LinearRegression()</pre></div></div></div></div></div>"
      ],
      "text/plain": [
       "LinearRegression()"
      ]
     },
     "execution_count": 18,
     "metadata": {},
     "output_type": "execute_result"
    }
   ],
   "source": [
    "#fit the model\n",
    "lm.fit(X_train, y_train['property_value'])"
   ]
  },
  {
   "cell_type": "code",
   "execution_count": 19,
   "id": "05281a62",
   "metadata": {},
   "outputs": [],
   "source": [
    "#add predictions to y train and y val\n",
    "y_train['lm_preds']=lm.predict(X_train)\n",
    "y_val['lm_preds']=lm.predict(X_val)"
   ]
  },
  {
   "cell_type": "markdown",
   "id": "d197b030",
   "metadata": {},
   "source": [
    "### Lasso Lars"
   ]
  },
  {
   "cell_type": "code",
   "execution_count": 20,
   "id": "69b0f02b",
   "metadata": {},
   "outputs": [],
   "source": [
    "#make the model\n",
    "ll=LassoLars(fit_intercept=False)"
   ]
  },
  {
   "cell_type": "code",
   "execution_count": 21,
   "id": "2f8fd1c3",
   "metadata": {},
   "outputs": [
    {
     "name": "stderr",
     "output_type": "stream",
     "text": [
      "/opt/homebrew/anaconda3/lib/python3.9/site-packages/sklearn/linear_model/_base.py:133: FutureWarning: The default of 'normalize' will be set to False in version 1.2 and deprecated in version 1.4.\n",
      "If you wish to scale the data, use Pipeline with a StandardScaler in a preprocessing stage. To reproduce the previous behavior:\n",
      "\n",
      "from sklearn.pipeline import make_pipeline\n",
      "\n",
      "model = make_pipeline(StandardScaler(with_mean=False), LassoLars())\n",
      "\n",
      "If you wish to pass a sample_weight parameter, you need to pass it as a fit parameter to each step of the pipeline as follows:\n",
      "\n",
      "kwargs = {s[0] + '__sample_weight': sample_weight for s in model.steps}\n",
      "model.fit(X, y, **kwargs)\n",
      "\n",
      "Set parameter alpha to: original_alpha * np.sqrt(n_samples). \n",
      "  warnings.warn(\n"
     ]
    },
    {
     "data": {
      "text/html": [
       "<style>#sk-container-id-2 {color: black;background-color: white;}#sk-container-id-2 pre{padding: 0;}#sk-container-id-2 div.sk-toggleable {background-color: white;}#sk-container-id-2 label.sk-toggleable__label {cursor: pointer;display: block;width: 100%;margin-bottom: 0;padding: 0.3em;box-sizing: border-box;text-align: center;}#sk-container-id-2 label.sk-toggleable__label-arrow:before {content: \"▸\";float: left;margin-right: 0.25em;color: #696969;}#sk-container-id-2 label.sk-toggleable__label-arrow:hover:before {color: black;}#sk-container-id-2 div.sk-estimator:hover label.sk-toggleable__label-arrow:before {color: black;}#sk-container-id-2 div.sk-toggleable__content {max-height: 0;max-width: 0;overflow: hidden;text-align: left;background-color: #f0f8ff;}#sk-container-id-2 div.sk-toggleable__content pre {margin: 0.2em;color: black;border-radius: 0.25em;background-color: #f0f8ff;}#sk-container-id-2 input.sk-toggleable__control:checked~div.sk-toggleable__content {max-height: 200px;max-width: 100%;overflow: auto;}#sk-container-id-2 input.sk-toggleable__control:checked~label.sk-toggleable__label-arrow:before {content: \"▾\";}#sk-container-id-2 div.sk-estimator input.sk-toggleable__control:checked~label.sk-toggleable__label {background-color: #d4ebff;}#sk-container-id-2 div.sk-label input.sk-toggleable__control:checked~label.sk-toggleable__label {background-color: #d4ebff;}#sk-container-id-2 input.sk-hidden--visually {border: 0;clip: rect(1px 1px 1px 1px);clip: rect(1px, 1px, 1px, 1px);height: 1px;margin: -1px;overflow: hidden;padding: 0;position: absolute;width: 1px;}#sk-container-id-2 div.sk-estimator {font-family: monospace;background-color: #f0f8ff;border: 1px dotted black;border-radius: 0.25em;box-sizing: border-box;margin-bottom: 0.5em;}#sk-container-id-2 div.sk-estimator:hover {background-color: #d4ebff;}#sk-container-id-2 div.sk-parallel-item::after {content: \"\";width: 100%;border-bottom: 1px solid gray;flex-grow: 1;}#sk-container-id-2 div.sk-label:hover label.sk-toggleable__label {background-color: #d4ebff;}#sk-container-id-2 div.sk-serial::before {content: \"\";position: absolute;border-left: 1px solid gray;box-sizing: border-box;top: 0;bottom: 0;left: 50%;z-index: 0;}#sk-container-id-2 div.sk-serial {display: flex;flex-direction: column;align-items: center;background-color: white;padding-right: 0.2em;padding-left: 0.2em;position: relative;}#sk-container-id-2 div.sk-item {position: relative;z-index: 1;}#sk-container-id-2 div.sk-parallel {display: flex;align-items: stretch;justify-content: center;background-color: white;position: relative;}#sk-container-id-2 div.sk-item::before, #sk-container-id-2 div.sk-parallel-item::before {content: \"\";position: absolute;border-left: 1px solid gray;box-sizing: border-box;top: 0;bottom: 0;left: 50%;z-index: -1;}#sk-container-id-2 div.sk-parallel-item {display: flex;flex-direction: column;z-index: 1;position: relative;background-color: white;}#sk-container-id-2 div.sk-parallel-item:first-child::after {align-self: flex-end;width: 50%;}#sk-container-id-2 div.sk-parallel-item:last-child::after {align-self: flex-start;width: 50%;}#sk-container-id-2 div.sk-parallel-item:only-child::after {width: 0;}#sk-container-id-2 div.sk-dashed-wrapped {border: 1px dashed gray;margin: 0 0.4em 0.5em 0.4em;box-sizing: border-box;padding-bottom: 0.4em;background-color: white;}#sk-container-id-2 div.sk-label label {font-family: monospace;font-weight: bold;display: inline-block;line-height: 1.2em;}#sk-container-id-2 div.sk-label-container {text-align: center;}#sk-container-id-2 div.sk-container {/* jupyter's `normalize.less` sets `[hidden] { display: none; }` but bootstrap.min.css set `[hidden] { display: none !important; }` so we also need the `!important` here to be able to override the default hidden behavior on the sphinx rendered scikit-learn.org. See: https://github.com/scikit-learn/scikit-learn/issues/21755 */display: inline-block !important;position: relative;}#sk-container-id-2 div.sk-text-repr-fallback {display: none;}</style><div id=\"sk-container-id-2\" class=\"sk-top-container\"><div class=\"sk-text-repr-fallback\"><pre>LassoLars(fit_intercept=False)</pre><b>In a Jupyter environment, please rerun this cell to show the HTML representation or trust the notebook. <br />On GitHub, the HTML representation is unable to render, please try loading this page with nbviewer.org.</b></div><div class=\"sk-container\" hidden><div class=\"sk-item\"><div class=\"sk-estimator sk-toggleable\"><input class=\"sk-toggleable__control sk-hidden--visually\" id=\"sk-estimator-id-2\" type=\"checkbox\" checked><label for=\"sk-estimator-id-2\" class=\"sk-toggleable__label sk-toggleable__label-arrow\">LassoLars</label><div class=\"sk-toggleable__content\"><pre>LassoLars(fit_intercept=False)</pre></div></div></div></div></div>"
      ],
      "text/plain": [
       "LassoLars(fit_intercept=False)"
      ]
     },
     "execution_count": 21,
     "metadata": {},
     "output_type": "execute_result"
    }
   ],
   "source": [
    "#fit the model\n",
    "ll.fit(X_train, y_train['property_value'])"
   ]
  },
  {
   "cell_type": "code",
   "execution_count": 22,
   "id": "0849d7fd",
   "metadata": {},
   "outputs": [],
   "source": [
    "#add predictions to y train and y val\n",
    "y_train['ll_preds']=ll.predict(X_train)\n",
    "y_val['ll_preds']=ll.predict(X_val)"
   ]
  },
  {
   "cell_type": "markdown",
   "id": "712af5f6",
   "metadata": {},
   "source": [
    "### Tweedie Regressor (GLM)"
   ]
  },
  {
   "cell_type": "code",
   "execution_count": 23,
   "id": "525fd656",
   "metadata": {},
   "outputs": [],
   "source": [
    "#make the model\n",
    "tweed=TweedieRegressor()"
   ]
  },
  {
   "cell_type": "code",
   "execution_count": 24,
   "id": "639bd44b",
   "metadata": {},
   "outputs": [
    {
     "data": {
      "text/html": [
       "<style>#sk-container-id-3 {color: black;background-color: white;}#sk-container-id-3 pre{padding: 0;}#sk-container-id-3 div.sk-toggleable {background-color: white;}#sk-container-id-3 label.sk-toggleable__label {cursor: pointer;display: block;width: 100%;margin-bottom: 0;padding: 0.3em;box-sizing: border-box;text-align: center;}#sk-container-id-3 label.sk-toggleable__label-arrow:before {content: \"▸\";float: left;margin-right: 0.25em;color: #696969;}#sk-container-id-3 label.sk-toggleable__label-arrow:hover:before {color: black;}#sk-container-id-3 div.sk-estimator:hover label.sk-toggleable__label-arrow:before {color: black;}#sk-container-id-3 div.sk-toggleable__content {max-height: 0;max-width: 0;overflow: hidden;text-align: left;background-color: #f0f8ff;}#sk-container-id-3 div.sk-toggleable__content pre {margin: 0.2em;color: black;border-radius: 0.25em;background-color: #f0f8ff;}#sk-container-id-3 input.sk-toggleable__control:checked~div.sk-toggleable__content {max-height: 200px;max-width: 100%;overflow: auto;}#sk-container-id-3 input.sk-toggleable__control:checked~label.sk-toggleable__label-arrow:before {content: \"▾\";}#sk-container-id-3 div.sk-estimator input.sk-toggleable__control:checked~label.sk-toggleable__label {background-color: #d4ebff;}#sk-container-id-3 div.sk-label input.sk-toggleable__control:checked~label.sk-toggleable__label {background-color: #d4ebff;}#sk-container-id-3 input.sk-hidden--visually {border: 0;clip: rect(1px 1px 1px 1px);clip: rect(1px, 1px, 1px, 1px);height: 1px;margin: -1px;overflow: hidden;padding: 0;position: absolute;width: 1px;}#sk-container-id-3 div.sk-estimator {font-family: monospace;background-color: #f0f8ff;border: 1px dotted black;border-radius: 0.25em;box-sizing: border-box;margin-bottom: 0.5em;}#sk-container-id-3 div.sk-estimator:hover {background-color: #d4ebff;}#sk-container-id-3 div.sk-parallel-item::after {content: \"\";width: 100%;border-bottom: 1px solid gray;flex-grow: 1;}#sk-container-id-3 div.sk-label:hover label.sk-toggleable__label {background-color: #d4ebff;}#sk-container-id-3 div.sk-serial::before {content: \"\";position: absolute;border-left: 1px solid gray;box-sizing: border-box;top: 0;bottom: 0;left: 50%;z-index: 0;}#sk-container-id-3 div.sk-serial {display: flex;flex-direction: column;align-items: center;background-color: white;padding-right: 0.2em;padding-left: 0.2em;position: relative;}#sk-container-id-3 div.sk-item {position: relative;z-index: 1;}#sk-container-id-3 div.sk-parallel {display: flex;align-items: stretch;justify-content: center;background-color: white;position: relative;}#sk-container-id-3 div.sk-item::before, #sk-container-id-3 div.sk-parallel-item::before {content: \"\";position: absolute;border-left: 1px solid gray;box-sizing: border-box;top: 0;bottom: 0;left: 50%;z-index: -1;}#sk-container-id-3 div.sk-parallel-item {display: flex;flex-direction: column;z-index: 1;position: relative;background-color: white;}#sk-container-id-3 div.sk-parallel-item:first-child::after {align-self: flex-end;width: 50%;}#sk-container-id-3 div.sk-parallel-item:last-child::after {align-self: flex-start;width: 50%;}#sk-container-id-3 div.sk-parallel-item:only-child::after {width: 0;}#sk-container-id-3 div.sk-dashed-wrapped {border: 1px dashed gray;margin: 0 0.4em 0.5em 0.4em;box-sizing: border-box;padding-bottom: 0.4em;background-color: white;}#sk-container-id-3 div.sk-label label {font-family: monospace;font-weight: bold;display: inline-block;line-height: 1.2em;}#sk-container-id-3 div.sk-label-container {text-align: center;}#sk-container-id-3 div.sk-container {/* jupyter's `normalize.less` sets `[hidden] { display: none; }` but bootstrap.min.css set `[hidden] { display: none !important; }` so we also need the `!important` here to be able to override the default hidden behavior on the sphinx rendered scikit-learn.org. See: https://github.com/scikit-learn/scikit-learn/issues/21755 */display: inline-block !important;position: relative;}#sk-container-id-3 div.sk-text-repr-fallback {display: none;}</style><div id=\"sk-container-id-3\" class=\"sk-top-container\"><div class=\"sk-text-repr-fallback\"><pre>TweedieRegressor()</pre><b>In a Jupyter environment, please rerun this cell to show the HTML representation or trust the notebook. <br />On GitHub, the HTML representation is unable to render, please try loading this page with nbviewer.org.</b></div><div class=\"sk-container\" hidden><div class=\"sk-item\"><div class=\"sk-estimator sk-toggleable\"><input class=\"sk-toggleable__control sk-hidden--visually\" id=\"sk-estimator-id-3\" type=\"checkbox\" checked><label for=\"sk-estimator-id-3\" class=\"sk-toggleable__label sk-toggleable__label-arrow\">TweedieRegressor</label><div class=\"sk-toggleable__content\"><pre>TweedieRegressor()</pre></div></div></div></div></div>"
      ],
      "text/plain": [
       "TweedieRegressor()"
      ]
     },
     "execution_count": 24,
     "metadata": {},
     "output_type": "execute_result"
    }
   ],
   "source": [
    "#fit the model\n",
    "tweed.fit(X_train, y_train['property_value'])"
   ]
  },
  {
   "cell_type": "code",
   "execution_count": 25,
   "id": "814fdf24",
   "metadata": {},
   "outputs": [],
   "source": [
    "#add predictions to y train and y val\n",
    "y_train['tweedie_preds']=tweed.predict(X_train)\n",
    "y_val['tweedie_preds']=tweed.predict(X_val)"
   ]
  },
  {
   "cell_type": "markdown",
   "id": "211bc222",
   "metadata": {},
   "source": [
    "### Polynomial Regression"
   ]
  },
  {
   "cell_type": "code",
   "execution_count": 26,
   "id": "66c4392d",
   "metadata": {},
   "outputs": [],
   "source": [
    "#create new features\n",
    "pf=PolynomialFeatures(degree=2)\n",
    "\n",
    "X_train_degree2 = pf.fit_transform(X_train)\n",
    "X_validate_degree2 = pf.transform(X_val)\n",
    "X_test_degree2 = pf.transform(X_test)"
   ]
  },
  {
   "cell_type": "code",
   "execution_count": 27,
   "id": "036b7751",
   "metadata": {},
   "outputs": [],
   "source": [
    "#create the model\n",
    "lm2= LinearRegression(normalize=True)"
   ]
  },
  {
   "cell_type": "code",
   "execution_count": 28,
   "id": "16c482b4",
   "metadata": {},
   "outputs": [
    {
     "name": "stderr",
     "output_type": "stream",
     "text": [
      "/opt/homebrew/anaconda3/lib/python3.9/site-packages/sklearn/linear_model/_base.py:141: FutureWarning: 'normalize' was deprecated in version 1.0 and will be removed in 1.2.\n",
      "If you wish to scale the data, use Pipeline with a StandardScaler in a preprocessing stage. To reproduce the previous behavior:\n",
      "\n",
      "from sklearn.pipeline import make_pipeline\n",
      "\n",
      "model = make_pipeline(StandardScaler(with_mean=False), LinearRegression())\n",
      "\n",
      "If you wish to pass a sample_weight parameter, you need to pass it as a fit parameter to each step of the pipeline as follows:\n",
      "\n",
      "kwargs = {s[0] + '__sample_weight': sample_weight for s in model.steps}\n",
      "model.fit(X, y, **kwargs)\n",
      "\n",
      "\n",
      "  warnings.warn(\n"
     ]
    },
    {
     "data": {
      "text/html": [
       "<style>#sk-container-id-4 {color: black;background-color: white;}#sk-container-id-4 pre{padding: 0;}#sk-container-id-4 div.sk-toggleable {background-color: white;}#sk-container-id-4 label.sk-toggleable__label {cursor: pointer;display: block;width: 100%;margin-bottom: 0;padding: 0.3em;box-sizing: border-box;text-align: center;}#sk-container-id-4 label.sk-toggleable__label-arrow:before {content: \"▸\";float: left;margin-right: 0.25em;color: #696969;}#sk-container-id-4 label.sk-toggleable__label-arrow:hover:before {color: black;}#sk-container-id-4 div.sk-estimator:hover label.sk-toggleable__label-arrow:before {color: black;}#sk-container-id-4 div.sk-toggleable__content {max-height: 0;max-width: 0;overflow: hidden;text-align: left;background-color: #f0f8ff;}#sk-container-id-4 div.sk-toggleable__content pre {margin: 0.2em;color: black;border-radius: 0.25em;background-color: #f0f8ff;}#sk-container-id-4 input.sk-toggleable__control:checked~div.sk-toggleable__content {max-height: 200px;max-width: 100%;overflow: auto;}#sk-container-id-4 input.sk-toggleable__control:checked~label.sk-toggleable__label-arrow:before {content: \"▾\";}#sk-container-id-4 div.sk-estimator input.sk-toggleable__control:checked~label.sk-toggleable__label {background-color: #d4ebff;}#sk-container-id-4 div.sk-label input.sk-toggleable__control:checked~label.sk-toggleable__label {background-color: #d4ebff;}#sk-container-id-4 input.sk-hidden--visually {border: 0;clip: rect(1px 1px 1px 1px);clip: rect(1px, 1px, 1px, 1px);height: 1px;margin: -1px;overflow: hidden;padding: 0;position: absolute;width: 1px;}#sk-container-id-4 div.sk-estimator {font-family: monospace;background-color: #f0f8ff;border: 1px dotted black;border-radius: 0.25em;box-sizing: border-box;margin-bottom: 0.5em;}#sk-container-id-4 div.sk-estimator:hover {background-color: #d4ebff;}#sk-container-id-4 div.sk-parallel-item::after {content: \"\";width: 100%;border-bottom: 1px solid gray;flex-grow: 1;}#sk-container-id-4 div.sk-label:hover label.sk-toggleable__label {background-color: #d4ebff;}#sk-container-id-4 div.sk-serial::before {content: \"\";position: absolute;border-left: 1px solid gray;box-sizing: border-box;top: 0;bottom: 0;left: 50%;z-index: 0;}#sk-container-id-4 div.sk-serial {display: flex;flex-direction: column;align-items: center;background-color: white;padding-right: 0.2em;padding-left: 0.2em;position: relative;}#sk-container-id-4 div.sk-item {position: relative;z-index: 1;}#sk-container-id-4 div.sk-parallel {display: flex;align-items: stretch;justify-content: center;background-color: white;position: relative;}#sk-container-id-4 div.sk-item::before, #sk-container-id-4 div.sk-parallel-item::before {content: \"\";position: absolute;border-left: 1px solid gray;box-sizing: border-box;top: 0;bottom: 0;left: 50%;z-index: -1;}#sk-container-id-4 div.sk-parallel-item {display: flex;flex-direction: column;z-index: 1;position: relative;background-color: white;}#sk-container-id-4 div.sk-parallel-item:first-child::after {align-self: flex-end;width: 50%;}#sk-container-id-4 div.sk-parallel-item:last-child::after {align-self: flex-start;width: 50%;}#sk-container-id-4 div.sk-parallel-item:only-child::after {width: 0;}#sk-container-id-4 div.sk-dashed-wrapped {border: 1px dashed gray;margin: 0 0.4em 0.5em 0.4em;box-sizing: border-box;padding-bottom: 0.4em;background-color: white;}#sk-container-id-4 div.sk-label label {font-family: monospace;font-weight: bold;display: inline-block;line-height: 1.2em;}#sk-container-id-4 div.sk-label-container {text-align: center;}#sk-container-id-4 div.sk-container {/* jupyter's `normalize.less` sets `[hidden] { display: none; }` but bootstrap.min.css set `[hidden] { display: none !important; }` so we also need the `!important` here to be able to override the default hidden behavior on the sphinx rendered scikit-learn.org. See: https://github.com/scikit-learn/scikit-learn/issues/21755 */display: inline-block !important;position: relative;}#sk-container-id-4 div.sk-text-repr-fallback {display: none;}</style><div id=\"sk-container-id-4\" class=\"sk-top-container\"><div class=\"sk-text-repr-fallback\"><pre>LinearRegression(normalize=True)</pre><b>In a Jupyter environment, please rerun this cell to show the HTML representation or trust the notebook. <br />On GitHub, the HTML representation is unable to render, please try loading this page with nbviewer.org.</b></div><div class=\"sk-container\" hidden><div class=\"sk-item\"><div class=\"sk-estimator sk-toggleable\"><input class=\"sk-toggleable__control sk-hidden--visually\" id=\"sk-estimator-id-4\" type=\"checkbox\" checked><label for=\"sk-estimator-id-4\" class=\"sk-toggleable__label sk-toggleable__label-arrow\">LinearRegression</label><div class=\"sk-toggleable__content\"><pre>LinearRegression(normalize=True)</pre></div></div></div></div></div>"
      ],
      "text/plain": [
       "LinearRegression(normalize=True)"
      ]
     },
     "execution_count": 28,
     "metadata": {},
     "output_type": "execute_result"
    }
   ],
   "source": [
    "#fit the model\n",
    "lm2.fit(X_train_degree2, y_train['property_value'])"
   ]
  },
  {
   "cell_type": "code",
   "execution_count": 29,
   "id": "1a596996",
   "metadata": {},
   "outputs": [],
   "source": [
    "#make predictions\n",
    "y_train['lm2_preds']=lm2.predict(X_train_degree2)\n",
    "y_val['lm2_preds']=lm2.predict(X_validate_degree2)"
   ]
  },
  {
   "cell_type": "markdown",
   "id": "4fb18f65",
   "metadata": {},
   "source": [
    "## Calculate RMSE to find best model"
   ]
  },
  {
   "cell_type": "code",
   "execution_count": 30,
   "id": "eb775da1",
   "metadata": {},
   "outputs": [
    {
     "data": {
      "text/html": [
       "<div>\n",
       "<style scoped>\n",
       "    .dataframe tbody tr th:only-of-type {\n",
       "        vertical-align: middle;\n",
       "    }\n",
       "\n",
       "    .dataframe tbody tr th {\n",
       "        vertical-align: top;\n",
       "    }\n",
       "\n",
       "    .dataframe thead th {\n",
       "        text-align: right;\n",
       "    }\n",
       "</style>\n",
       "<table border=\"1\" class=\"dataframe\">\n",
       "  <thead>\n",
       "    <tr style=\"text-align: right;\">\n",
       "      <th></th>\n",
       "      <th>property_value</th>\n",
       "      <th>base_mean</th>\n",
       "      <th>lm_preds</th>\n",
       "      <th>ll_preds</th>\n",
       "      <th>tweedie_preds</th>\n",
       "      <th>lm2_preds</th>\n",
       "    </tr>\n",
       "  </thead>\n",
       "  <tbody>\n",
       "    <tr>\n",
       "      <th>32057</th>\n",
       "      <td>206678.0</td>\n",
       "      <td>387526.101611</td>\n",
       "      <td>284224.0</td>\n",
       "      <td>283335.645329</td>\n",
       "      <td>331093.332768</td>\n",
       "      <td>283296.0</td>\n",
       "    </tr>\n",
       "    <tr>\n",
       "      <th>43708</th>\n",
       "      <td>600000.0</td>\n",
       "      <td>387526.101611</td>\n",
       "      <td>299008.0</td>\n",
       "      <td>300240.310115</td>\n",
       "      <td>327276.778236</td>\n",
       "      <td>293536.0</td>\n",
       "    </tr>\n",
       "    <tr>\n",
       "      <th>2083</th>\n",
       "      <td>582000.0</td>\n",
       "      <td>387526.101611</td>\n",
       "      <td>295168.0</td>\n",
       "      <td>293592.506572</td>\n",
       "      <td>349252.435487</td>\n",
       "      <td>306880.0</td>\n",
       "    </tr>\n",
       "    <tr>\n",
       "      <th>27554</th>\n",
       "      <td>542618.0</td>\n",
       "      <td>387526.101611</td>\n",
       "      <td>320576.0</td>\n",
       "      <td>320746.388978</td>\n",
       "      <td>376757.959300</td>\n",
       "      <td>315808.0</td>\n",
       "    </tr>\n",
       "    <tr>\n",
       "      <th>45855</th>\n",
       "      <td>195294.0</td>\n",
       "      <td>387526.101611</td>\n",
       "      <td>367168.0</td>\n",
       "      <td>366217.742175</td>\n",
       "      <td>372896.361600</td>\n",
       "      <td>361120.0</td>\n",
       "    </tr>\n",
       "  </tbody>\n",
       "</table>\n",
       "</div>"
      ],
      "text/plain": [
       "       property_value      base_mean  lm_preds       ll_preds  tweedie_preds  \\\n",
       "32057        206678.0  387526.101611  284224.0  283335.645329  331093.332768   \n",
       "43708        600000.0  387526.101611  299008.0  300240.310115  327276.778236   \n",
       "2083         582000.0  387526.101611  295168.0  293592.506572  349252.435487   \n",
       "27554        542618.0  387526.101611  320576.0  320746.388978  376757.959300   \n",
       "45855        195294.0  387526.101611  367168.0  366217.742175  372896.361600   \n",
       "\n",
       "       lm2_preds  \n",
       "32057   283296.0  \n",
       "43708   293536.0  \n",
       "2083    306880.0  \n",
       "27554   315808.0  \n",
       "45855   361120.0  "
      ]
     },
     "execution_count": 30,
     "metadata": {},
     "output_type": "execute_result"
    }
   ],
   "source": [
    "y_train.head()"
   ]
  },
  {
   "cell_type": "code",
   "execution_count": 31,
   "id": "1ee7faec",
   "metadata": {},
   "outputs": [],
   "source": [
    "#putting all models and RMSE into a dataframe for ease of viewing\n",
    "preds=['base_mean', 'lm_preds', 'll_preds', 'tweedie_preds', 'lm2_preds']\n",
    "a=[]\n",
    "b=[]\n",
    "e=[]\n",
    "c=[a,b,e]\n",
    "\n",
    "for col in y_train[preds]:\n",
    "    rmse= mean_squared_error(y_train['property_value'], y_train[col], squared=False)\n",
    "    rmsev=mean_squared_error(y_val['property_value'], y_val[col], squared=False)\n",
    "    b.append(rmse)\n",
    "    a.append(col)\n",
    "    e.append(rmsev)\n",
    "    rmsedf= pd.DataFrame(data=c, index=['Model', 'RMSE Train', 'RMSE Validate']).T\n",
    "    rmsedf['difference']=rmsedf['RMSE Validate']-rmsedf['RMSE Train']"
   ]
  },
  {
   "cell_type": "code",
   "execution_count": 32,
   "id": "5dbca0c2",
   "metadata": {},
   "outputs": [
    {
     "data": {
      "text/html": [
       "<div>\n",
       "<style scoped>\n",
       "    .dataframe tbody tr th:only-of-type {\n",
       "        vertical-align: middle;\n",
       "    }\n",
       "\n",
       "    .dataframe tbody tr th {\n",
       "        vertical-align: top;\n",
       "    }\n",
       "\n",
       "    .dataframe thead th {\n",
       "        text-align: right;\n",
       "    }\n",
       "</style>\n",
       "<table border=\"1\" class=\"dataframe\">\n",
       "  <thead>\n",
       "    <tr style=\"text-align: right;\">\n",
       "      <th></th>\n",
       "      <th>Model</th>\n",
       "      <th>RMSE Train</th>\n",
       "      <th>RMSE Validate</th>\n",
       "      <th>difference</th>\n",
       "    </tr>\n",
       "  </thead>\n",
       "  <tbody>\n",
       "    <tr>\n",
       "      <th>1</th>\n",
       "      <td>lm_preds</td>\n",
       "      <td>226521.171742</td>\n",
       "      <td>227107.371795</td>\n",
       "      <td>586.200053</td>\n",
       "    </tr>\n",
       "    <tr>\n",
       "      <th>2</th>\n",
       "      <td>ll_preds</td>\n",
       "      <td>226519.17107</td>\n",
       "      <td>227114.187643</td>\n",
       "      <td>595.016573</td>\n",
       "    </tr>\n",
       "    <tr>\n",
       "      <th>4</th>\n",
       "      <td>lm2_preds</td>\n",
       "      <td>226173.932596</td>\n",
       "      <td>227161.743853</td>\n",
       "      <td>987.811256</td>\n",
       "    </tr>\n",
       "    <tr>\n",
       "      <th>3</th>\n",
       "      <td>tweedie_preds</td>\n",
       "      <td>237572.982168</td>\n",
       "      <td>238732.274473</td>\n",
       "      <td>1159.292305</td>\n",
       "    </tr>\n",
       "    <tr>\n",
       "      <th>0</th>\n",
       "      <td>base_mean</td>\n",
       "      <td>262061.451377</td>\n",
       "      <td>264235.414434</td>\n",
       "      <td>2173.963057</td>\n",
       "    </tr>\n",
       "  </tbody>\n",
       "</table>\n",
       "</div>"
      ],
      "text/plain": [
       "           Model     RMSE Train  RMSE Validate   difference\n",
       "1       lm_preds  226521.171742  227107.371795   586.200053\n",
       "2       ll_preds   226519.17107  227114.187643   595.016573\n",
       "4      lm2_preds  226173.932596  227161.743853   987.811256\n",
       "3  tweedie_preds  237572.982168  238732.274473  1159.292305\n",
       "0      base_mean  262061.451377  264235.414434  2173.963057"
      ]
     },
     "execution_count": 32,
     "metadata": {},
     "output_type": "execute_result"
    }
   ],
   "source": [
    "rmsedf=rmsedf.sort_values(by='difference')\n",
    "rmsedf"
   ]
  },
  {
   "cell_type": "code",
   "execution_count": 33,
   "id": "f5d830ab",
   "metadata": {},
   "outputs": [
    {
     "data": {
      "text/plain": [
       "Text(0.5, 1.0, 'RMSE difference for Models')"
      ]
     },
     "execution_count": 33,
     "metadata": {},
     "output_type": "execute_result"
    },
    {
     "data": {
      "image/png": "[encoded data removed]",
      "text/plain": [
       "<Figure size 640x480 with 1 Axes>"
      ]
     },
     "metadata": {},
     "output_type": "display_data"
    }
   ],
   "source": [
    "#visualization of RMSE\n",
    "sns.barplot(x='Model', y='difference', data=rmsedf)\n",
    "plt.title('RMSE difference for Models')"
   ]
  },
  {
   "cell_type": "markdown",
   "id": "a7c0362e",
   "metadata": {},
   "source": [
    "<div class=\"alert alert-info\">\n",
    "    <header>\n",
    "    <h2>Takeaway</h2>\n",
    "    </header>\n",
    "    <dl>\n",
    "        <dt>All models performed better than the baseline. The RMSE for polynomial regression was the lowest of all the models at 226173.93. However, the difference between the train and validate RMSE was smallest on the linear regression model and the train was very close to the polynomial regression model. Because the difference in RMSE is smaller for linear regression, I will use that model for the test set.</dt>\n",
    "    </dl>\n",
    "</div>"
   ]
  },
  {
   "cell_type": "markdown",
   "id": "3db2daa2",
   "metadata": {},
   "source": [
    "### Use test data with linear regression model"
   ]
  },
  {
   "cell_type": "code",
   "execution_count": 34,
   "id": "6a44db53",
   "metadata": {},
   "outputs": [],
   "source": [
    "#making y_test into a dataframe\n",
    "y_test=pd.DataFrame(y_test)"
   ]
  },
  {
   "cell_type": "code",
   "execution_count": 35,
   "id": "9c445a2d",
   "metadata": {},
   "outputs": [
    {
     "data": {
      "text/html": [
       "<div>\n",
       "<style scoped>\n",
       "    .dataframe tbody tr th:only-of-type {\n",
       "        vertical-align: middle;\n",
       "    }\n",
       "\n",
       "    .dataframe tbody tr th {\n",
       "        vertical-align: top;\n",
       "    }\n",
       "\n",
       "    .dataframe thead th {\n",
       "        text-align: right;\n",
       "    }\n",
       "</style>\n",
       "<table border=\"1\" class=\"dataframe\">\n",
       "  <thead>\n",
       "    <tr style=\"text-align: right;\">\n",
       "      <th></th>\n",
       "      <th>property_value</th>\n",
       "      <th>lm_preds</th>\n",
       "    </tr>\n",
       "  </thead>\n",
       "  <tbody>\n",
       "    <tr>\n",
       "      <th>11440</th>\n",
       "      <td>437934.0</td>\n",
       "      <td>348096.0</td>\n",
       "    </tr>\n",
       "    <tr>\n",
       "      <th>1901</th>\n",
       "      <td>70154.0</td>\n",
       "      <td>286528.0</td>\n",
       "    </tr>\n",
       "    <tr>\n",
       "      <th>30354</th>\n",
       "      <td>309344.0</td>\n",
       "      <td>450816.0</td>\n",
       "    </tr>\n",
       "    <tr>\n",
       "      <th>47813</th>\n",
       "      <td>551322.0</td>\n",
       "      <td>360576.0</td>\n",
       "    </tr>\n",
       "    <tr>\n",
       "      <th>17794</th>\n",
       "      <td>74893.0</td>\n",
       "      <td>470272.0</td>\n",
       "    </tr>\n",
       "  </tbody>\n",
       "</table>\n",
       "</div>"
      ],
      "text/plain": [
       "       property_value  lm_preds\n",
       "11440        437934.0  348096.0\n",
       "1901          70154.0  286528.0\n",
       "30354        309344.0  450816.0\n",
       "47813        551322.0  360576.0\n",
       "17794         74893.0  470272.0"
      ]
     },
     "execution_count": 35,
     "metadata": {},
     "output_type": "execute_result"
    }
   ],
   "source": [
    "#make predictions\n",
    "y_test['lm_preds']=lm.predict(X_test)\n",
    "y_test.head()"
   ]
  },
  {
   "cell_type": "code",
   "execution_count": 36,
   "id": "ec5f2f8f",
   "metadata": {},
   "outputs": [
    {
     "data": {
      "text/plain": [
       "230232.3898560135"
      ]
     },
     "execution_count": 36,
     "metadata": {},
     "output_type": "execute_result"
    }
   ],
   "source": [
    "test_rmse=mean_squared_error(y_test['property_value'], y_test['lm_preds'], squared=False)\n",
    "test_rmse"
   ]
  },
  {
   "cell_type": "code",
   "execution_count": 42,
   "id": "3da73979",
   "metadata": {},
   "outputs": [
    {
     "data": {
      "text/html": [
       "<div>\n",
       "<style scoped>\n",
       "    .dataframe tbody tr th:only-of-type {\n",
       "        vertical-align: middle;\n",
       "    }\n",
       "\n",
       "    .dataframe tbody tr th {\n",
       "        vertical-align: top;\n",
       "    }\n",
       "\n",
       "    .dataframe thead th {\n",
       "        text-align: right;\n",
       "    }\n",
       "</style>\n",
       "<table border=\"1\" class=\"dataframe\">\n",
       "  <thead>\n",
       "    <tr style=\"text-align: right;\">\n",
       "      <th></th>\n",
       "      <th>Model</th>\n",
       "      <th>RMSE Train</th>\n",
       "      <th>RMSE Validate</th>\n",
       "      <th>difference</th>\n",
       "      <th>RMSE Test</th>\n",
       "    </tr>\n",
       "  </thead>\n",
       "  <tbody>\n",
       "    <tr>\n",
       "      <th>1</th>\n",
       "      <td>lm_preds</td>\n",
       "      <td>226521.171742</td>\n",
       "      <td>227107.371795</td>\n",
       "      <td>586.200053</td>\n",
       "      <td>230232.389856</td>\n",
       "    </tr>\n",
       "  </tbody>\n",
       "</table>\n",
       "</div>"
      ],
      "text/plain": [
       "      Model     RMSE Train  RMSE Validate  difference      RMSE Test\n",
       "1  lm_preds  226521.171742  227107.371795  586.200053  230232.389856"
      ]
     },
     "execution_count": 42,
     "metadata": {},
     "output_type": "execute_result"
    }
   ],
   "source": [
    "final_model= pd.DataFrame(rmsedf.iloc[0,:]).T\n",
    "final_model['RMSE Test']= test_rmse\n",
    "final_model"
   ]
  },
  {
   "cell_type": "code",
   "execution_count": null,
   "id": "28335161",
   "metadata": {},
   "outputs": [],
   "source": []
  },
  {
   "cell_type": "markdown",
   "id": "b51c49cb",
   "metadata": {},
   "source": [
    "### Next Step/After MVP chase this if time"
   ]
  },
  {
   "cell_type": "code",
   "execution_count": 60,
   "id": "2faf302d",
   "metadata": {},
   "outputs": [],
   "source": [
    "def select_kbest(x,y, k=2):\n",
    "    ss=sklearn.preprocessing.StandardScaler()\n",
    "    ss.fit(x)\n",
    "    X_train_scaled=ss.transform(x)\n",
    "    \n",
    "    f_selector=SelectKBest(f_regression, k=4)\n",
    "    X_reduced=f_selector.fit_transform(X_train_scaled, y)\n",
    "    f_support = f_selector.get_support()\n",
    "    features=x.iloc[:,f_support]\n",
    "    return features"
   ]
  },
  {
   "cell_type": "code",
   "execution_count": 61,
   "id": "dc9734b8",
   "metadata": {},
   "outputs": [
    {
     "data": {
      "text/html": [
       "<div>\n",
       "<style scoped>\n",
       "    .dataframe tbody tr th:only-of-type {\n",
       "        vertical-align: middle;\n",
       "    }\n",
       "\n",
       "    .dataframe tbody tr th {\n",
       "        vertical-align: top;\n",
       "    }\n",
       "\n",
       "    .dataframe thead th {\n",
       "        text-align: right;\n",
       "    }\n",
       "</style>\n",
       "<table border=\"1\" class=\"dataframe\">\n",
       "  <thead>\n",
       "    <tr style=\"text-align: right;\">\n",
       "      <th></th>\n",
       "      <th>finished_sq_ft</th>\n",
       "      <th>bath_count_1.0</th>\n",
       "      <th>bath_count_3.0</th>\n",
       "      <th>bath_count_4.0</th>\n",
       "    </tr>\n",
       "  </thead>\n",
       "  <tbody>\n",
       "    <tr>\n",
       "      <th>32057</th>\n",
       "      <td>-0.797661</td>\n",
       "      <td>0</td>\n",
       "      <td>0</td>\n",
       "      <td>0</td>\n",
       "    </tr>\n",
       "    <tr>\n",
       "      <th>43708</th>\n",
       "      <td>-0.900668</td>\n",
       "      <td>1</td>\n",
       "      <td>0</td>\n",
       "      <td>0</td>\n",
       "    </tr>\n",
       "    <tr>\n",
       "      <th>2083</th>\n",
       "      <td>-0.680818</td>\n",
       "      <td>0</td>\n",
       "      <td>0</td>\n",
       "      <td>0</td>\n",
       "    </tr>\n",
       "    <tr>\n",
       "      <th>27554</th>\n",
       "      <td>-0.151947</td>\n",
       "      <td>0</td>\n",
       "      <td>0</td>\n",
       "      <td>0</td>\n",
       "    </tr>\n",
       "    <tr>\n",
       "      <th>45855</th>\n",
       "      <td>-0.087376</td>\n",
       "      <td>0</td>\n",
       "      <td>0</td>\n",
       "      <td>0</td>\n",
       "    </tr>\n",
       "    <tr>\n",
       "      <th>...</th>\n",
       "      <td>...</td>\n",
       "      <td>...</td>\n",
       "      <td>...</td>\n",
       "      <td>...</td>\n",
       "    </tr>\n",
       "    <tr>\n",
       "      <th>48822</th>\n",
       "      <td>1.088745</td>\n",
       "      <td>0</td>\n",
       "      <td>1</td>\n",
       "      <td>0</td>\n",
       "    </tr>\n",
       "    <tr>\n",
       "      <th>36510</th>\n",
       "      <td>1.362405</td>\n",
       "      <td>0</td>\n",
       "      <td>0</td>\n",
       "      <td>1</td>\n",
       "    </tr>\n",
       "    <tr>\n",
       "      <th>36985</th>\n",
       "      <td>0.164760</td>\n",
       "      <td>0</td>\n",
       "      <td>1</td>\n",
       "      <td>0</td>\n",
       "    </tr>\n",
       "    <tr>\n",
       "      <th>48943</th>\n",
       "      <td>-0.530151</td>\n",
       "      <td>0</td>\n",
       "      <td>0</td>\n",
       "      <td>0</td>\n",
       "    </tr>\n",
       "    <tr>\n",
       "      <th>26460</th>\n",
       "      <td>1.290147</td>\n",
       "      <td>0</td>\n",
       "      <td>1</td>\n",
       "      <td>0</td>\n",
       "    </tr>\n",
       "  </tbody>\n",
       "</table>\n",
       "<p>26188 rows × 4 columns</p>\n",
       "</div>"
      ],
      "text/plain": [
       "       finished_sq_ft  bath_count_1.0  bath_count_3.0  bath_count_4.0\n",
       "32057       -0.797661               0               0               0\n",
       "43708       -0.900668               1               0               0\n",
       "2083        -0.680818               0               0               0\n",
       "27554       -0.151947               0               0               0\n",
       "45855       -0.087376               0               0               0\n",
       "...               ...             ...             ...             ...\n",
       "48822        1.088745               0               1               0\n",
       "36510        1.362405               0               0               1\n",
       "36985        0.164760               0               1               0\n",
       "48943       -0.530151               0               0               0\n",
       "26460        1.290147               0               1               0\n",
       "\n",
       "[26188 rows x 4 columns]"
      ]
     },
     "execution_count": 61,
     "metadata": {},
     "output_type": "execute_result"
    }
   ],
   "source": [
    "select_kbest(X_train, y_train['property_value'], 4)"
   ]
  },
  {
   "cell_type": "code",
   "execution_count": null,
   "id": "48928b02",
   "metadata": {},
   "outputs": [],
   "source": []
  }
 ],
 "metadata": {
  "kernelspec": {
   "display_name": "Python 3 (ipykernel)",
   "language": "python",
   "name": "python3"
  },
  "language_info": {
   "codemirror_mode": {
    "name": "ipython",
    "version": 3
   },
   "file_extension": ".py",
   "mimetype": "text/x-python",
   "name": "python",
   "nbconvert_exporter": "python",
   "pygments_lexer": "ipython3",
   "version": "3.9.13"
  }
 },
 "nbformat": 4,
 "nbformat_minor": 5
}
